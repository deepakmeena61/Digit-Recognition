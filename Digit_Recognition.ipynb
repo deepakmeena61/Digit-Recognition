{
  "cells": [
    {
      "cell_type": "markdown",
      "metadata": {
        "id": "view-in-github",
        "colab_type": "text"
      },
      "source": [
        "<a href=\"https://colab.research.google.com/github/deepakmeena61/Digit-Recognition/blob/main/Digit_Recognition.ipynb\" target=\"_parent\"><img src=\"https://colab.research.google.com/assets/colab-badge.svg\" alt=\"Open In Colab\"/></a>"
      ]
    },
    {
      "cell_type": "markdown",
      "metadata": {
        "id": "Rxs_oDJ7ySaM"
      },
      "source": [
        "# 1 Programming Problem 1:\n",
        "Simple convolutional neural networks (CNN) USING Tensorflow and Keras"
      ]
    },
    {
      "cell_type": "markdown",
      "metadata": {
        "id": "kMbCxAf1y6nD"
      },
      "source": [
        "1.1 Loading dataset and building input pipelines"
      ]
    },
    {
      "cell_type": "code",
      "execution_count": null,
      "metadata": {
        "id": "_u1r5YQ2zNeF"
      },
      "outputs": [],
      "source": [
        "import tensorflow as tf\n",
        "import tensorflow_datasets as tfds\n",
        "import numpy as np"
      ]
    },
    {
      "cell_type": "code",
      "execution_count": null,
      "metadata": {
        "id": "uV5TPgXuz3uK"
      },
      "outputs": [],
      "source": [
        "#(ds_trn, ds_vld, ds_tst), ds_info = tfds.load(name = 'mnist', \n",
        "#                                      split = [\"train[10%:]\", \"train[0%:10%]\", \"test\"],\n",
        "#                                      shuffle_files = True , \n",
        "#                                     as_supervised = True,\n",
        "#                                      with_info = True)"
      ]
    },
    {
      "cell_type": "code",
      "execution_count": null,
      "metadata": {
        "id": "ruhrHiKDchBB"
      },
      "outputs": [],
      "source": [
        "mnist = tf.keras.datasets.mnist\n",
        "(x_t, y_t),(X_test, y_test) = mnist.load_data()"
      ]
    },
    {
      "cell_type": "code",
      "execution_count": null,
      "metadata": {
        "id": "9jgRp4XXc0F3"
      },
      "outputs": [],
      "source": [
        "from sklearn.model_selection import train_test_split\n",
        "X_train, X_valid, y_train, y_valid = train_test_split(x_t, y_t, test_size=0.10, \n",
        "                                                    random_state=42)"
      ]
    },
    {
      "cell_type": "code",
      "execution_count": null,
      "metadata": {
        "colab": {
          "base_uri": "https://localhost:8080/"
        },
        "id": "Hj3nIpZGLE0_",
        "outputId": "0609cc8a-dd72-470d-f25a-edefa6685748"
      },
      "outputs": [
        {
          "name": "stdout",
          "output_type": "stream",
          "text": [
            "Train set size:  54000\n"
          ]
        }
      ],
      "source": [
        "print(\"Train set size: \", len(X_train))"
      ]
    },
    {
      "cell_type": "code",
      "execution_count": null,
      "metadata": {
        "colab": {
          "base_uri": "https://localhost:8080/"
        },
        "id": "UrKCEgBVLSHz",
        "outputId": "65c070d6-b595-4841-dae3-74d31db1daa0"
      },
      "outputs": [
        {
          "name": "stdout",
          "output_type": "stream",
          "text": [
            "Test set size:  10000\n"
          ]
        }
      ],
      "source": [
        "print(\"Test set size: \", len(X_test))"
      ]
    },
    {
      "cell_type": "code",
      "execution_count": null,
      "metadata": {
        "colab": {
          "base_uri": "https://localhost:8080/"
        },
        "id": "IRgN60UmLVT2",
        "outputId": "44fafec7-720f-4b66-d513-e82a193892d3"
      },
      "outputs": [
        {
          "name": "stdout",
          "output_type": "stream",
          "text": [
            "Validation set size:  6000\n"
          ]
        }
      ],
      "source": [
        "print(\"Validation set size: \", len(X_valid))"
      ]
    },
    {
      "cell_type": "code",
      "execution_count": null,
      "metadata": {
        "colab": {
          "base_uri": "https://localhost:8080/"
        },
        "id": "RZQpBLwatyZr",
        "outputId": "753ff455-94ae-4808-a924-edfc6e3cbf40"
      },
      "outputs": [
        {
          "name": "stdout",
          "output_type": "stream",
          "text": [
            "[[[0 0 0 ... 0 0 0]\n",
            "  [0 0 0 ... 0 0 0]\n",
            "  [0 0 0 ... 0 0 0]\n",
            "  ...\n",
            "  [0 0 0 ... 0 0 0]\n",
            "  [0 0 0 ... 0 0 0]\n",
            "  [0 0 0 ... 0 0 0]]\n",
            "\n",
            " [[0 0 0 ... 0 0 0]\n",
            "  [0 0 0 ... 0 0 0]\n",
            "  [0 0 0 ... 0 0 0]\n",
            "  ...\n",
            "  [0 0 0 ... 0 0 0]\n",
            "  [0 0 0 ... 0 0 0]\n",
            "  [0 0 0 ... 0 0 0]]\n",
            "\n",
            " [[0 0 0 ... 0 0 0]\n",
            "  [0 0 0 ... 0 0 0]\n",
            "  [0 0 0 ... 0 0 0]\n",
            "  ...\n",
            "  [0 0 0 ... 0 0 0]\n",
            "  [0 0 0 ... 0 0 0]\n",
            "  [0 0 0 ... 0 0 0]]\n",
            "\n",
            " ...\n",
            "\n",
            " [[0 0 0 ... 0 0 0]\n",
            "  [0 0 0 ... 0 0 0]\n",
            "  [0 0 0 ... 0 0 0]\n",
            "  ...\n",
            "  [0 0 0 ... 0 0 0]\n",
            "  [0 0 0 ... 0 0 0]\n",
            "  [0 0 0 ... 0 0 0]]\n",
            "\n",
            " [[0 0 0 ... 0 0 0]\n",
            "  [0 0 0 ... 0 0 0]\n",
            "  [0 0 0 ... 0 0 0]\n",
            "  ...\n",
            "  [0 0 0 ... 0 0 0]\n",
            "  [0 0 0 ... 0 0 0]\n",
            "  [0 0 0 ... 0 0 0]]\n",
            "\n",
            " [[0 0 0 ... 0 0 0]\n",
            "  [0 0 0 ... 0 0 0]\n",
            "  [0 0 0 ... 0 0 0]\n",
            "  ...\n",
            "  [0 0 0 ... 0 0 0]\n",
            "  [0 0 0 ... 0 0 0]\n",
            "  [0 0 0 ... 0 0 0]]]\n"
          ]
        }
      ],
      "source": [
        "print(X_train)"
      ]
    },
    {
      "cell_type": "code",
      "execution_count": null,
      "metadata": {
        "colab": {
          "base_uri": "https://localhost:8080/"
        },
        "id": "qpGhjvVKt05s",
        "outputId": "014f0e2a-0c2d-4948-9749-001416f66a31"
      },
      "outputs": [
        {
          "name": "stdout",
          "output_type": "stream",
          "text": [
            "[1 6 6 ... 0 0 4]\n"
          ]
        }
      ],
      "source": [
        "print(y_train)"
      ]
    },
    {
      "cell_type": "code",
      "execution_count": null,
      "metadata": {
        "id": "Cbsj1veEt6ZW"
      },
      "outputs": [],
      "source": [
        "#Normalize input images\n",
        "def normalize_image(x):\n",
        "  img = tf.cast(x , tf.float32)/255.0\n",
        "  return img"
      ]
    },
    {
      "cell_type": "code",
      "execution_count": null,
      "metadata": {
        "id": "piLbWxs50HZ1"
      },
      "outputs": [],
      "source": [
        "X_train = normalize_image(X_train)\n"
      ]
    },
    {
      "cell_type": "code",
      "execution_count": null,
      "metadata": {
        "id": "KQ9akU5F0Aa-"
      },
      "outputs": [],
      "source": [
        "X_valid = normalize_image(X_valid)"
      ]
    },
    {
      "cell_type": "code",
      "execution_count": null,
      "metadata": {
        "id": "Erc52JeI0-ie"
      },
      "outputs": [],
      "source": [
        "X_test = normalize_image(X_test)"
      ]
    },
    {
      "cell_type": "markdown",
      "metadata": {
        "id": "1CGmpNhn1jhZ"
      },
      "source": [
        "1.2 Define CNN Network Model"
      ]
    },
    {
      "cell_type": "code",
      "execution_count": null,
      "metadata": {
        "id": "CqB_z5pn1CX3"
      },
      "outputs": [],
      "source": [
        "model_1 = tf.keras.Sequential()\n",
        "model_1.add(tf.keras.layers.Conv2D(32, kernel_size = (3,3), \n",
        "                                   activation = 'relu', \n",
        "                                   strides = (1,1),\n",
        "                                   input_shape = (28,28,1),\n",
        "                                   padding = 'same'))\n",
        "model_1.add(tf.keras.layers.Conv2D(64, kernel_size = (3,3), \n",
        "                                   activation = 'relu', \n",
        "                                   strides = (1,1),\n",
        "                                   padding = 'same'))\n",
        "model_1.add(tf.keras.layers.MaxPool2D())\n",
        "model_1.add(tf.keras.layers.Flatten())\n",
        "model_1.add(tf.keras.layers.Dense(256, activation = 'relu'))\n",
        "model_1.add(tf.keras.layers.Dense(128, activation = 'softmax'))"
      ]
    },
    {
      "cell_type": "markdown",
      "metadata": {
        "id": "rWYEDK6Mp94V"
      },
      "source": [
        "1.3 Compile CNN model"
      ]
    },
    {
      "cell_type": "code",
      "execution_count": null,
      "metadata": {
        "id": "SxuEn1dYK3dv"
      },
      "outputs": [],
      "source": [
        "model_1.compile(loss = tf.keras.losses.sparse_categorical_crossentropy, \n",
        "                optimizer = tf.keras.optimizers.experimental.Nadam(),\n",
        "                metrics = ['accuracy'])"
      ]
    },
    {
      "cell_type": "markdown",
      "metadata": {
        "id": "_gYosoojqMNP"
      },
      "source": [
        "1.4 Train CNN"
      ]
    },
    {
      "cell_type": "code",
      "execution_count": null,
      "metadata": {
        "colab": {
          "background_save": true,
          "base_uri": "https://localhost:8080/"
        },
        "id": "HXtI7HsXQtG8",
        "outputId": "52f21742-d51e-4e0f-9ae1-e74a88f97f7c"
      },
      "outputs": [
        {
          "name": "stdout",
          "output_type": "stream",
          "text": [
            "Epoch 1/6\n",
            "1688/1688 [==============================] - 277s 163ms/step - loss: 0.1889 - accuracy: 0.9619\n",
            "Epoch 2/6\n",
            "1688/1688 [==============================] - 261s 155ms/step - loss: 0.0457 - accuracy: 0.9854\n",
            "Epoch 3/6\n",
            "1688/1688 [==============================] - 260s 154ms/step - loss: 0.0334 - accuracy: 0.9898\n",
            "Epoch 4/6\n",
            "1688/1688 [==============================] - 263s 156ms/step - loss: 0.0298 - accuracy: 0.9911\n",
            "Epoch 5/6\n",
            "1688/1688 [==============================] - 256s 152ms/step - loss: 0.0262 - accuracy: 0.9919\n",
            "Epoch 6/6\n",
            "1688/1688 [==============================] - 255s 151ms/step - loss: 0.0189 - accuracy: 0.9944\n",
            "Model successfully trained\n"
          ]
        }
      ],
      "source": [
        "model_cnn = model_1.fit(x = X_train, y = y_train, epochs = 6)\n",
        "print(\"Model successfully trained\")"
      ]
    },
    {
      "cell_type": "code",
      "execution_count": null,
      "metadata": {
        "colab": {
          "background_save": true,
          "base_uri": "https://localhost:8080/"
        },
        "id": "nYj_olbTK7dd",
        "outputId": "37daa31e-e4d2-45e2-f833-92c970b3de8d"
      },
      "outputs": [
        {
          "name": "stdout",
          "output_type": "stream",
          "text": [
            "Model: \"sequential_3\"\n",
            "_________________________________________________________________\n",
            " Layer (type)                Output Shape              Param #   \n",
            "=================================================================\n",
            " conv2d_6 (Conv2D)           (None, 28, 28, 32)        320       \n",
            "                                                                 \n",
            " conv2d_7 (Conv2D)           (None, 28, 28, 64)        18496     \n",
            "                                                                 \n",
            " max_pooling2d_3 (MaxPooling  (None, 14, 14, 64)       0         \n",
            " 2D)                                                             \n",
            "                                                                 \n",
            " flatten_3 (Flatten)         (None, 12544)             0         \n",
            "                                                                 \n",
            " dense_6 (Dense)             (None, 256)               3211520   \n",
            "                                                                 \n",
            " dense_7 (Dense)             (None, 128)               32896     \n",
            "                                                                 \n",
            "=================================================================\n",
            "Total params: 3,263,232\n",
            "Trainable params: 3,263,232\n",
            "Non-trainable params: 0\n",
            "_________________________________________________________________\n"
          ]
        }
      ],
      "source": [
        "model_1.summary()"
      ]
    },
    {
      "cell_type": "code",
      "execution_count": null,
      "metadata": {
        "colab": {
          "background_save": true,
          "base_uri": "https://localhost:8080/"
        },
        "id": "ltslHTCrqCq2",
        "outputId": "f8328a4c-c3cc-4e2b-c3bc-05e34d2dae83"
      },
      "outputs": [
        {
          "name": "stdout",
          "output_type": "stream",
          "text": [
            "188/188 [==============================] - 7s 34ms/step - loss: 0.0913 - accuracy: 0.9837\n",
            "\n",
            "Validation accuracy: 0.9836666584014893\n"
          ]
        }
      ],
      "source": [
        "valid_loss, valid_acc = model_1.evaluate(x = X_valid, y = y_valid)\n",
        "print('\\nValidation accuracy:', valid_acc)"
      ]
    },
    {
      "cell_type": "markdown",
      "metadata": {
        "id": "TAAzNnkyqPjm"
      },
      "source": [
        "1.5 Evaluate test set performance"
      ]
    },
    {
      "cell_type": "code",
      "execution_count": null,
      "metadata": {
        "colab": {
          "base_uri": "https://localhost:8080/"
        },
        "id": "LB9gGdAuTE12",
        "outputId": "8aea12f7-60b5-401d-9a5b-6258aa272248"
      },
      "outputs": [
        {
          "name": "stdout",
          "output_type": "stream",
          "text": [
            "313/313 [==============================] - 12s 38ms/step - loss: 0.0829 - accuracy: 0.9822\n",
            "\n",
            "Test accuracy: 0.982200026512146\n"
          ]
        }
      ],
      "source": [
        "test_loss, test_acc = model_1.evaluate(x = X_test, y = y_test)\n",
        "print('\\nTest accuracy:', test_acc)"
      ]
    },
    {
      "cell_type": "markdown",
      "metadata": {
        "id": "jHNPDhW9yNP3"
      },
      "source": [
        "# Back deep feedforward MLP network, using Tensorflow and Keras"
      ]
    },
    {
      "cell_type": "markdown",
      "metadata": {
        "id": "hUfZ9ZWXz32N"
      },
      "source": [
        "2.1 Define a simple deep MLP network model"
      ]
    },
    {
      "cell_type": "code",
      "execution_count": null,
      "metadata": {
        "id": "ChYC10O2yfpk"
      },
      "outputs": [],
      "source": [
        "model_2"
      ]
    }
  ],
  "metadata": {
    "colab": {
      "provenance": [],
      "authorship_tag": "ABX9TyOtqztUdszZma47qxoE07hN",
      "include_colab_link": true
    },
    "kernelspec": {
      "display_name": "Python 3",
      "name": "python3"
    },
    "language_info": {
      "name": "python"
    }
  },
  "nbformat": 4,
  "nbformat_minor": 0
}