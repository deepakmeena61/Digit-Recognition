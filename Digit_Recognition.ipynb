{
  "cells": [
    {
      "cell_type": "markdown",
      "metadata": {
        "id": "view-in-github",
        "colab_type": "text"
      },
      "source": [
        "<a href=\"https://colab.research.google.com/github/deepakmeena61/Digit-Recognition/blob/main/Digit_Recognition.ipynb\" target=\"_parent\"><img src=\"https://colab.research.google.com/assets/colab-badge.svg\" alt=\"Open In Colab\"/></a>"
      ]
    },
    {
      "cell_type": "markdown",
      "metadata": {
        "id": "Rxs_oDJ7ySaM"
      },
      "source": [
        "# 1 Programming Problem 1:\n",
        "Simple convolutional neural networks (CNN) USING Tensorflow and Keras"
      ]
    },
    {
      "cell_type": "markdown",
      "metadata": {
        "id": "kMbCxAf1y6nD"
      },
      "source": [
        "1.1 Loading dataset and building input pipelines"
      ]
    },
    {
      "cell_type": "code",
      "execution_count": 1,
      "metadata": {
        "id": "_u1r5YQ2zNeF"
      },
      "outputs": [],
      "source": [
        "import tensorflow as tf\n",
        "import tensorflow_datasets as tfds\n",
        "import numpy as np"
      ]
    },
    {
      "cell_type": "code",
      "execution_count": 2,
      "metadata": {
        "id": "uV5TPgXuz3uK"
      },
      "outputs": [],
      "source": [
        "#(ds_trn, ds_vld, ds_tst), ds_info = tfds.load(name = 'mnist', \n",
        "#                                      split = [\"train[10%:]\", \"train[0%:10%]\", \"test\"],\n",
        "#                                      shuffle_files = True , \n",
        "#                                     as_supervised = True,\n",
        "#                                      with_info = True)"
      ]
    },
    {
      "cell_type": "code",
      "execution_count": 3,
      "metadata": {
        "id": "ruhrHiKDchBB",
        "colab": {
          "base_uri": "https://localhost:8080/"
        },
        "outputId": "8fcc1913-d5c1-43c9-bdad-fbaf78e66e74"
      },
      "outputs": [
        {
          "output_type": "stream",
          "name": "stdout",
          "text": [
            "Downloading data from https://storage.googleapis.com/tensorflow/tf-keras-datasets/mnist.npz\n",
            "11490434/11490434 [==============================] - 0s 0us/step\n"
          ]
        }
      ],
      "source": [
        "mnist = tf.keras.datasets.mnist\n",
        "(x_t, y_t),(X_test, y_test) = mnist.load_data()"
      ]
    },
    {
      "cell_type": "code",
      "execution_count": 4,
      "metadata": {
        "id": "9jgRp4XXc0F3"
      },
      "outputs": [],
      "source": [
        "from sklearn.model_selection import train_test_split\n",
        "X_train, X_valid, y_train, y_valid = train_test_split(x_t, y_t, test_size=0.10, \n",
        "                                                    random_state=42)"
      ]
    },
    {
      "cell_type": "code",
      "execution_count": 5,
      "metadata": {
        "colab": {
          "base_uri": "https://localhost:8080/"
        },
        "id": "Hj3nIpZGLE0_",
        "outputId": "cc2fbe66-d74a-41b1-8f09-03ce7018f385"
      },
      "outputs": [
        {
          "output_type": "stream",
          "name": "stdout",
          "text": [
            "Train set size:  54000\n"
          ]
        }
      ],
      "source": [
        "print(\"Train set size: \", len(X_train))"
      ]
    },
    {
      "cell_type": "code",
      "execution_count": 6,
      "metadata": {
        "colab": {
          "base_uri": "https://localhost:8080/"
        },
        "id": "UrKCEgBVLSHz",
        "outputId": "34fe0ea9-3f89-40d1-ec6c-7dd69732e28a"
      },
      "outputs": [
        {
          "output_type": "stream",
          "name": "stdout",
          "text": [
            "Test set size:  10000\n"
          ]
        }
      ],
      "source": [
        "print(\"Test set size: \", len(X_test))"
      ]
    },
    {
      "cell_type": "code",
      "execution_count": 7,
      "metadata": {
        "colab": {
          "base_uri": "https://localhost:8080/"
        },
        "id": "IRgN60UmLVT2",
        "outputId": "42d5867c-0aab-45f8-d94a-2c3b0bf9757d"
      },
      "outputs": [
        {
          "output_type": "stream",
          "name": "stdout",
          "text": [
            "Validation set size:  6000\n"
          ]
        }
      ],
      "source": [
        "print(\"Validation set size: \", len(X_valid))"
      ]
    },
    {
      "cell_type": "code",
      "execution_count": 8,
      "metadata": {
        "colab": {
          "base_uri": "https://localhost:8080/"
        },
        "id": "RZQpBLwatyZr",
        "outputId": "f6f65441-888b-4af5-ad38-ce836b80d3d0"
      },
      "outputs": [
        {
          "output_type": "stream",
          "name": "stdout",
          "text": [
            "[[[0 0 0 ... 0 0 0]\n",
            "  [0 0 0 ... 0 0 0]\n",
            "  [0 0 0 ... 0 0 0]\n",
            "  ...\n",
            "  [0 0 0 ... 0 0 0]\n",
            "  [0 0 0 ... 0 0 0]\n",
            "  [0 0 0 ... 0 0 0]]\n",
            "\n",
            " [[0 0 0 ... 0 0 0]\n",
            "  [0 0 0 ... 0 0 0]\n",
            "  [0 0 0 ... 0 0 0]\n",
            "  ...\n",
            "  [0 0 0 ... 0 0 0]\n",
            "  [0 0 0 ... 0 0 0]\n",
            "  [0 0 0 ... 0 0 0]]\n",
            "\n",
            " [[0 0 0 ... 0 0 0]\n",
            "  [0 0 0 ... 0 0 0]\n",
            "  [0 0 0 ... 0 0 0]\n",
            "  ...\n",
            "  [0 0 0 ... 0 0 0]\n",
            "  [0 0 0 ... 0 0 0]\n",
            "  [0 0 0 ... 0 0 0]]\n",
            "\n",
            " ...\n",
            "\n",
            " [[0 0 0 ... 0 0 0]\n",
            "  [0 0 0 ... 0 0 0]\n",
            "  [0 0 0 ... 0 0 0]\n",
            "  ...\n",
            "  [0 0 0 ... 0 0 0]\n",
            "  [0 0 0 ... 0 0 0]\n",
            "  [0 0 0 ... 0 0 0]]\n",
            "\n",
            " [[0 0 0 ... 0 0 0]\n",
            "  [0 0 0 ... 0 0 0]\n",
            "  [0 0 0 ... 0 0 0]\n",
            "  ...\n",
            "  [0 0 0 ... 0 0 0]\n",
            "  [0 0 0 ... 0 0 0]\n",
            "  [0 0 0 ... 0 0 0]]\n",
            "\n",
            " [[0 0 0 ... 0 0 0]\n",
            "  [0 0 0 ... 0 0 0]\n",
            "  [0 0 0 ... 0 0 0]\n",
            "  ...\n",
            "  [0 0 0 ... 0 0 0]\n",
            "  [0 0 0 ... 0 0 0]\n",
            "  [0 0 0 ... 0 0 0]]]\n"
          ]
        }
      ],
      "source": [
        "print(X_train)"
      ]
    },
    {
      "cell_type": "code",
      "execution_count": 9,
      "metadata": {
        "colab": {
          "base_uri": "https://localhost:8080/"
        },
        "id": "qpGhjvVKt05s",
        "outputId": "984c467d-f933-4cfb-a12b-ac5aaf78b9fe"
      },
      "outputs": [
        {
          "output_type": "stream",
          "name": "stdout",
          "text": [
            "[1 6 6 ... 0 0 4]\n"
          ]
        }
      ],
      "source": [
        "print(y_train)"
      ]
    },
    {
      "cell_type": "code",
      "execution_count": 10,
      "metadata": {
        "id": "Cbsj1veEt6ZW"
      },
      "outputs": [],
      "source": [
        "#Normalize input images\n",
        "def normalize_image(x):\n",
        "     img = x.astype('float32')/255.0\n",
        "     return img"
      ]
    },
    {
      "cell_type": "code",
      "execution_count": 11,
      "metadata": {
        "id": "piLbWxs50HZ1"
      },
      "outputs": [],
      "source": [
        "X_train = normalize_image(X_train)\n"
      ]
    },
    {
      "cell_type": "code",
      "execution_count": 12,
      "metadata": {
        "id": "KQ9akU5F0Aa-"
      },
      "outputs": [],
      "source": [
        "X_valid = normalize_image(X_valid)"
      ]
    },
    {
      "cell_type": "code",
      "execution_count": 13,
      "metadata": {
        "id": "Erc52JeI0-ie"
      },
      "outputs": [],
      "source": [
        "X_test = normalize_image(X_test)"
      ]
    },
    {
      "cell_type": "markdown",
      "metadata": {
        "id": "1CGmpNhn1jhZ"
      },
      "source": [
        "1.2 Define CNN Network Model"
      ]
    },
    {
      "cell_type": "code",
      "execution_count": 14,
      "metadata": {
        "id": "CqB_z5pn1CX3"
      },
      "outputs": [],
      "source": [
        "model_1 = tf.keras.Sequential()\n",
        "model_1.add(tf.keras.layers.Conv2D(32, kernel_size = (3,3), \n",
        "                                   activation = 'relu', \n",
        "                                   strides = (1,1),\n",
        "                                   input_shape = (28,28,1),\n",
        "                                   padding = 'same'))\n",
        "model_1.add(tf.keras.layers.Conv2D(64, kernel_size = (3,3), \n",
        "                                   activation = 'relu', \n",
        "                                   strides = (1,1),\n",
        "                                   padding = 'same'))\n",
        "model_1.add(tf.keras.layers.MaxPool2D())\n",
        "model_1.add(tf.keras.layers.Flatten())\n",
        "model_1.add(tf.keras.layers.Dense(32, activation = 'relu'))\n",
        "model_1.add(tf.keras.layers.Dense(10, activation = 'softmax'))"
      ]
    },
    {
      "cell_type": "markdown",
      "metadata": {
        "id": "rWYEDK6Mp94V"
      },
      "source": [
        "1.3 Compile CNN model"
      ]
    },
    {
      "cell_type": "code",
      "execution_count": 15,
      "metadata": {
        "id": "SxuEn1dYK3dv"
      },
      "outputs": [],
      "source": [
        "model_1.compile(loss = tf.keras.losses.sparse_categorical_crossentropy, \n",
        "                optimizer = tf.keras.optimizers.experimental.Nadam(),\n",
        "                metrics = ['accuracy'])"
      ]
    },
    {
      "cell_type": "markdown",
      "metadata": {
        "id": "_gYosoojqMNP"
      },
      "source": [
        "1.4 Train CNN"
      ]
    },
    {
      "cell_type": "code",
      "execution_count": 16,
      "metadata": {
        "colab": {
          "base_uri": "https://localhost:8080/"
        },
        "id": "HXtI7HsXQtG8",
        "outputId": "ee10edef-f05c-494a-941b-bbe0f5b16677"
      },
      "outputs": [
        {
          "output_type": "stream",
          "name": "stdout",
          "text": [
            "Epoch 1/6\n",
            "1688/1688 [==============================] - 22s 5ms/step - loss: 0.1427 - accuracy: 0.9574\n",
            "Epoch 2/6\n",
            "1688/1688 [==============================] - 8s 5ms/step - loss: 0.0487 - accuracy: 0.9854\n",
            "Epoch 3/6\n",
            "1688/1688 [==============================] - 8s 5ms/step - loss: 0.0322 - accuracy: 0.9898\n",
            "Epoch 4/6\n",
            "1688/1688 [==============================] - 8s 5ms/step - loss: 0.0236 - accuracy: 0.9922\n",
            "Epoch 5/6\n",
            "1688/1688 [==============================] - 8s 5ms/step - loss: 0.0167 - accuracy: 0.9945\n",
            "Epoch 6/6\n",
            "1688/1688 [==============================] - 8s 5ms/step - loss: 0.0127 - accuracy: 0.9960\n",
            "Model successfully trained\n"
          ]
        }
      ],
      "source": [
        "model_cnn = model_1.fit(x = X_train, y = y_train, epochs = 6)\n",
        "print(\"Model successfully trained\")"
      ]
    },
    {
      "cell_type": "code",
      "execution_count": 17,
      "metadata": {
        "colab": {
          "base_uri": "https://localhost:8080/"
        },
        "id": "nYj_olbTK7dd",
        "outputId": "f623b11d-d41e-4035-a7b4-d7f46b8ece21"
      },
      "outputs": [
        {
          "output_type": "stream",
          "name": "stdout",
          "text": [
            "Model: \"sequential\"\n",
            "_________________________________________________________________\n",
            " Layer (type)                Output Shape              Param #   \n",
            "=================================================================\n",
            " conv2d (Conv2D)             (None, 28, 28, 32)        320       \n",
            "                                                                 \n",
            " conv2d_1 (Conv2D)           (None, 28, 28, 64)        18496     \n",
            "                                                                 \n",
            " max_pooling2d (MaxPooling2D  (None, 14, 14, 64)       0         \n",
            " )                                                               \n",
            "                                                                 \n",
            " flatten (Flatten)           (None, 12544)             0         \n",
            "                                                                 \n",
            " dense (Dense)               (None, 32)                401440    \n",
            "                                                                 \n",
            " dense_1 (Dense)             (None, 10)                330       \n",
            "                                                                 \n",
            "=================================================================\n",
            "Total params: 420,586\n",
            "Trainable params: 420,586\n",
            "Non-trainable params: 0\n",
            "_________________________________________________________________\n"
          ]
        }
      ],
      "source": [
        "model_1.summary()"
      ]
    },
    {
      "cell_type": "code",
      "execution_count": 18,
      "metadata": {
        "colab": {
          "base_uri": "https://localhost:8080/"
        },
        "id": "ltslHTCrqCq2",
        "outputId": "c8f98dc9-ddd3-42be-b416-23a08b12788a"
      },
      "outputs": [
        {
          "output_type": "stream",
          "name": "stdout",
          "text": [
            "188/188 [==============================] - 1s 3ms/step - loss: 0.0509 - accuracy: 0.9892\n",
            "\n",
            "Validation accuracy: 0.9891666769981384\n"
          ]
        }
      ],
      "source": [
        "valid_loss, valid_acc = model_1.evaluate(x = X_valid, y = y_valid)\n",
        "print('\\nValidation accuracy:', valid_acc)"
      ]
    },
    {
      "cell_type": "markdown",
      "metadata": {
        "id": "TAAzNnkyqPjm"
      },
      "source": [
        "1.5 Evaluate test set performance"
      ]
    },
    {
      "cell_type": "code",
      "execution_count": 19,
      "metadata": {
        "colab": {
          "base_uri": "https://localhost:8080/"
        },
        "id": "LB9gGdAuTE12",
        "outputId": "8772620a-1b06-4250-9598-2da071a7b552"
      },
      "outputs": [
        {
          "output_type": "stream",
          "name": "stdout",
          "text": [
            "313/313 [==============================] - 1s 3ms/step - loss: 0.0442 - accuracy: 0.9868\n",
            "\n",
            "Test accuracy: 0.9868000149726868\n"
          ]
        }
      ],
      "source": [
        "test_loss, test_acc = model_1.evaluate(x = X_test, y = y_test)\n",
        "print('\\nTest accuracy:', test_acc)"
      ]
    },
    {
      "cell_type": "markdown",
      "metadata": {
        "id": "jHNPDhW9yNP3"
      },
      "source": [
        "# Back deep feedforward MLP network, using Tensorflow and Keras"
      ]
    },
    {
      "cell_type": "markdown",
      "metadata": {
        "id": "hUfZ9ZWXz32N"
      },
      "source": [
        "2.1 Define a simple deep MLP network model"
      ]
    },
    {
      "cell_type": "code",
      "execution_count": 20,
      "metadata": {
        "id": "ChYC10O2yfpk"
      },
      "outputs": [],
      "source": [
        "model_2 = tf.keras.Sequential()\n",
        "model_2.add(tf.keras.layers.Flatten(input_shape = (28,28)))\n",
        "model_2.add(tf.keras.layers.Dense(300, activation = 'relu'))\n",
        "model_2.add(tf.keras.layers.Dense(100, activation = 'relu'))\n",
        "model_2.add(tf.keras.layers.Dense(10, activation = 'softmax'))"
      ]
    },
    {
      "cell_type": "markdown",
      "source": [
        "2.2 Compile, train and evaluate this network"
      ],
      "metadata": {
        "id": "wSmddB8VX5aR"
      }
    },
    {
      "cell_type": "code",
      "source": [
        "model_2.compile(loss = tf.keras.losses.sparse_categorical_crossentropy,\n",
        "                optimizer = tf.keras.optimizers.experimental.Nadam(),\n",
        "                metrics = ['accuracy'])"
      ],
      "metadata": {
        "id": "UDFdAVw8X4FX"
      },
      "execution_count": 21,
      "outputs": []
    },
    {
      "cell_type": "code",
      "source": [
        "model_2.summary()"
      ],
      "metadata": {
        "colab": {
          "base_uri": "https://localhost:8080/"
        },
        "id": "hIskt2RyX9J2",
        "outputId": "0858256a-e386-4fb9-f5da-7af5e45f7886"
      },
      "execution_count": 22,
      "outputs": [
        {
          "output_type": "stream",
          "name": "stdout",
          "text": [
            "Model: \"sequential_1\"\n",
            "_________________________________________________________________\n",
            " Layer (type)                Output Shape              Param #   \n",
            "=================================================================\n",
            " flatten_1 (Flatten)         (None, 784)               0         \n",
            "                                                                 \n",
            " dense_2 (Dense)             (None, 300)               235500    \n",
            "                                                                 \n",
            " dense_3 (Dense)             (None, 100)               30100     \n",
            "                                                                 \n",
            " dense_4 (Dense)             (None, 10)                1010      \n",
            "                                                                 \n",
            "=================================================================\n",
            "Total params: 266,610\n",
            "Trainable params: 266,610\n",
            "Non-trainable params: 0\n",
            "_________________________________________________________________\n"
          ]
        }
      ]
    },
    {
      "cell_type": "code",
      "source": [
        "model_hdl = model_2.fit(x = X_train, y = y_train, epochs = 6)\n",
        "print(\"Model successfully trained\")"
      ],
      "metadata": {
        "colab": {
          "base_uri": "https://localhost:8080/"
        },
        "id": "HO9w1x37X_NG",
        "outputId": "b02f5919-5f9f-4330-c102-9a85819b241a"
      },
      "execution_count": 23,
      "outputs": [
        {
          "output_type": "stream",
          "name": "stdout",
          "text": [
            "Epoch 1/6\n",
            "1688/1688 [==============================] - 8s 4ms/step - loss: 0.2097 - accuracy: 0.9387\n",
            "Epoch 2/6\n",
            "1688/1688 [==============================] - 5s 3ms/step - loss: 0.0874 - accuracy: 0.9734\n",
            "Epoch 3/6\n",
            "1688/1688 [==============================] - 5s 3ms/step - loss: 0.0583 - accuracy: 0.9810\n",
            "Epoch 4/6\n",
            "1688/1688 [==============================] - 6s 3ms/step - loss: 0.0442 - accuracy: 0.9853\n",
            "Epoch 5/6\n",
            "1688/1688 [==============================] - 5s 3ms/step - loss: 0.0334 - accuracy: 0.9886\n",
            "Epoch 6/6\n",
            "1688/1688 [==============================] - 5s 3ms/step - loss: 0.0279 - accuracy: 0.9911\n",
            "Model successfully trained\n"
          ]
        }
      ]
    },
    {
      "cell_type": "code",
      "source": [
        "valid_loss, valid_acc = model_2.evaluate(x = X_valid, y = y_valid)\n",
        "print('\\nValidation accuracy:', valid_acc)"
      ],
      "metadata": {
        "colab": {
          "base_uri": "https://localhost:8080/"
        },
        "id": "HqClOymjYCFt",
        "outputId": "8b135eb7-5fe7-4ecf-cb89-f6765dafee13"
      },
      "execution_count": 24,
      "outputs": [
        {
          "output_type": "stream",
          "name": "stdout",
          "text": [
            "188/188 [==============================] - 1s 3ms/step - loss: 0.0816 - accuracy: 0.9805\n",
            "\n",
            "Validation accuracy: 0.9804999828338623\n"
          ]
        }
      ]
    },
    {
      "cell_type": "code",
      "source": [
        "test_loss, test_acc = model_2.evaluate(x = X_test, y = y_test)\n",
        "print('\\nTest accuracy:', test_acc)"
      ],
      "metadata": {
        "colab": {
          "base_uri": "https://localhost:8080/"
        },
        "id": "HF7VBWRiYGKo",
        "outputId": "e20c6d48-02fd-4f2e-8e1a-0498c97eb353"
      },
      "execution_count": 25,
      "outputs": [
        {
          "output_type": "stream",
          "name": "stdout",
          "text": [
            "313/313 [==============================] - 1s 3ms/step - loss: 0.0804 - accuracy: 0.9783\n",
            "\n",
            "Test accuracy: 0.9782999753952026\n"
          ]
        }
      ]
    },
    {
      "cell_type": "markdown",
      "source": [
        "# Single hidden layer feedforward MLP network, using Tensor\u0000ow and Keras"
      ],
      "metadata": {
        "id": "oBXxhJpOYJEo"
      }
    },
    {
      "cell_type": "markdown",
      "source": [
        "\n",
        "3.1 De\u0000ne a single hidden layer feedforward network model"
      ],
      "metadata": {
        "id": "PDAXETqvYKwI"
      }
    },
    {
      "cell_type": "code",
      "source": [
        "model_3 = tf.keras.Sequential()\n",
        "model_3.add(tf.keras.layers.Flatten(input_shape = (28,28)))\n",
        "model_3.add(tf.keras.layers.Dense(100, activation = 'relu'))\n",
        "model_3.add(tf.keras.layers.Dense(10, activation = 'softmax'))"
      ],
      "metadata": {
        "id": "4dv9QOrcYHp9"
      },
      "execution_count": 26,
      "outputs": []
    },
    {
      "cell_type": "markdown",
      "source": [
        "3.2 Compile, train and evaluate this network\n"
      ],
      "metadata": {
        "id": "BiHHWIm4YQ4U"
      }
    },
    {
      "cell_type": "code",
      "source": [
        "model_3.compile(loss = tf.keras.losses.sparse_categorical_crossentropy,\n",
        "                optimizer = tf.keras.optimizers.experimental.Nadam(),\n",
        "                metrics = ['accuracy'])"
      ],
      "metadata": {
        "id": "ovA2W2U-YRpA"
      },
      "execution_count": 27,
      "outputs": []
    },
    {
      "cell_type": "code",
      "source": [
        "model_3.summary()"
      ],
      "metadata": {
        "colab": {
          "base_uri": "https://localhost:8080/"
        },
        "id": "hT8xYgdOYUna",
        "outputId": "3764a809-01d6-4b48-bfc2-4d5389228b3a"
      },
      "execution_count": 28,
      "outputs": [
        {
          "output_type": "stream",
          "name": "stdout",
          "text": [
            "Model: \"sequential_2\"\n",
            "_________________________________________________________________\n",
            " Layer (type)                Output Shape              Param #   \n",
            "=================================================================\n",
            " flatten_2 (Flatten)         (None, 784)               0         \n",
            "                                                                 \n",
            " dense_5 (Dense)             (None, 100)               78500     \n",
            "                                                                 \n",
            " dense_6 (Dense)             (None, 10)                1010      \n",
            "                                                                 \n",
            "=================================================================\n",
            "Total params: 79,510\n",
            "Trainable params: 79,510\n",
            "Non-trainable params: 0\n",
            "_________________________________________________________________\n"
          ]
        }
      ]
    },
    {
      "cell_type": "code",
      "source": [
        "model_shl = model_3.fit(x = X_train, y = y_train, epochs = 6)\n",
        "print(\"Model successfully trained\")"
      ],
      "metadata": {
        "colab": {
          "base_uri": "https://localhost:8080/"
        },
        "id": "CaLcmDrfYW7j",
        "outputId": "113ea600-5e12-4d22-e174-1d573fdb91d5"
      },
      "execution_count": 29,
      "outputs": [
        {
          "output_type": "stream",
          "name": "stdout",
          "text": [
            "Epoch 1/6\n",
            "1688/1688 [==============================] - 6s 3ms/step - loss: 0.2919 - accuracy: 0.9167\n",
            "Epoch 2/6\n",
            "1688/1688 [==============================] - 5s 3ms/step - loss: 0.1297 - accuracy: 0.9623\n",
            "Epoch 3/6\n",
            "1688/1688 [==============================] - 5s 3ms/step - loss: 0.0903 - accuracy: 0.9736\n",
            "Epoch 4/6\n",
            "1688/1688 [==============================] - 5s 3ms/step - loss: 0.0684 - accuracy: 0.9797\n",
            "Epoch 5/6\n",
            "1688/1688 [==============================] - 5s 3ms/step - loss: 0.0543 - accuracy: 0.9834\n",
            "Epoch 6/6\n",
            "1688/1688 [==============================] - 5s 3ms/step - loss: 0.0443 - accuracy: 0.9869\n",
            "Model successfully trained\n"
          ]
        }
      ]
    },
    {
      "cell_type": "code",
      "source": [
        "valid_loss, valid_acc = model_3.evaluate(x = X_valid, y = y_valid)\n",
        "print('\\nValidation accuracy:', valid_acc)"
      ],
      "metadata": {
        "colab": {
          "base_uri": "https://localhost:8080/"
        },
        "id": "gNL9p6NZYYLw",
        "outputId": "27854d68-1339-46d3-d3bc-a41cc516ad17"
      },
      "execution_count": 30,
      "outputs": [
        {
          "output_type": "stream",
          "name": "stdout",
          "text": [
            "188/188 [==============================] - 1s 3ms/step - loss: 0.0766 - accuracy: 0.9780\n",
            "\n",
            "Validation accuracy: 0.9779999852180481\n"
          ]
        }
      ]
    },
    {
      "cell_type": "code",
      "source": [
        "test_loss, test_acc = model_3.evaluate(x = X_test, y = y_test)\n",
        "print('\\nTest accuracy:', test_acc)"
      ],
      "metadata": {
        "colab": {
          "base_uri": "https://localhost:8080/"
        },
        "id": "zpckT3JJYaTe",
        "outputId": "6951c064-d3d5-4544-93f1-61e695f11539"
      },
      "execution_count": 31,
      "outputs": [
        {
          "output_type": "stream",
          "name": "stdout",
          "text": [
            "313/313 [==============================] - 1s 2ms/step - loss: 0.0798 - accuracy: 0.9752\n",
            "\n",
            "Test accuracy: 0.9751999974250793\n"
          ]
        }
      ]
    }
  ],
  "metadata": {
    "colab": {
      "provenance": [],
      "authorship_tag": "ABX9TyNeDNKYl7sZxJ/+Nl86Vejq",
      "include_colab_link": true
    },
    "kernelspec": {
      "display_name": "Python 3",
      "name": "python3"
    },
    "language_info": {
      "name": "python"
    },
    "accelerator": "GPU",
    "gpuClass": "standard"
  },
  "nbformat": 4,
  "nbformat_minor": 0
}